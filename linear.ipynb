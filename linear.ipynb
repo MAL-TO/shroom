{
 "cells": [
  {
   "cell_type": "code",
   "execution_count": 18,
   "metadata": {},
   "outputs": [],
   "source": [
    "import numpy as np \n",
    "import pandas as pd \n",
    "\n",
    "def objective_function(x, test, prob):\n",
    "    a, b, c = x\n",
    "    return np.sum((a * test[0] + b * test[1] + c * test[2] - prob) ** 2)\n",
    "\n",
    "def constraint(x):\n",
    "    return np.sum(x) - 1\n",
    "\n",
    "# create a random np vector of probabilities\n",
    "prob = np.random.random(500)\n",
    "\n",
    "test = np.random.random((3,500))\n",
    "\n",
    "x0 = np.array([1/3, 1/3, 1/3])"
   ]
  },
  {
   "cell_type": "code",
   "execution_count": 19,
   "metadata": {},
   "outputs": [
    {
     "data": {
      "text/plain": [
       "53.964975079416796"
      ]
     },
     "execution_count": 19,
     "metadata": {},
     "output_type": "execute_result"
    }
   ],
   "source": [
    "objective_function(x0, test, prob)"
   ]
  },
  {
   "cell_type": "code",
   "execution_count": 20,
   "metadata": {},
   "outputs": [
    {
     "name": "stdout",
     "output_type": "stream",
     "text": [
      "Optimal values:\n",
      "a = 0.3520261659868651\n",
      "b = 0.33936192866185355\n",
      "c = 0.30861190535128136\n",
      "Objective function value: 53.92316611331649\n"
     ]
    }
   ],
   "source": [
    "import numpy as np\n",
    "from scipy.optimize import minimize\n",
    "\n",
    "con = {'type': 'eq', 'fun': constraint}\n",
    "bounds = [(0, 1), (0, 1), (0, 1)]  # a, b, c >= 0 and <= 1\n",
    "\n",
    "result = minimize(objective_function, x0, args=(test, prob), bounds=bounds, constraints=con)\n",
    "\n",
    "print(\"Optimal values:\")\n",
    "print(\"a =\", result.x[0])\n",
    "print(\"b =\", result.x[1])\n",
    "print(\"c =\", result.x[2])\n",
    "print(\"Objective function value:\", result.fun)"
   ]
  },
  {
   "cell_type": "markdown",
   "metadata": {},
   "source": [
    "Hamming Distance"
   ]
  },
  {
   "cell_type": "code",
   "execution_count": 56,
   "metadata": {},
   "outputs": [],
   "source": [
    "import os\n",
    "import pandas as pd\n",
    "import numpy as np\n",
    "\n",
    "path = '/data1/malto/shroom'\n",
    "\n",
    "results1 = pd.read_csv(path + '/baseline_val.csv')\n",
    "results2 = pd.read_csv(path + '/crlft_val.csv')\n",
    "results3 = pd.read_csv(path + '/sequential_nogpt_aware.csv')"
   ]
  },
  {
   "cell_type": "code",
   "execution_count": 71,
   "metadata": {},
   "outputs": [
    {
     "data": {
      "text/plain": [
       "(501,)"
      ]
     },
     "execution_count": 71,
     "metadata": {},
     "output_type": "execute_result"
    }
   ],
   "source": [
    "r1 = 1 - results1['baseline'].to_numpy()\n",
    "r2 = results2['deberta-xlarge-mnli_0.01_frozen_22_24_1_0.772_63_sequential'].to_numpy()\n",
    "r3 = 1 - results3['sequential_nogpt_deberta_xlarge'].to_numpy()\n",
    "\n",
    "test = np.stack((r1, r2, r3), axis=0).mean(axis=0)\n",
    "test.shape"
   ]
  },
  {
   "cell_type": "code",
   "execution_count": 73,
   "metadata": {},
   "outputs": [
    {
     "data": {
      "text/plain": [
       "(501,)"
      ]
     },
     "execution_count": 73,
     "metadata": {},
     "output_type": "execute_result"
    }
   ],
   "source": [
    "labels = pd.read_json(path + '/val.model-aware.json', lines=True)['p(Hallucination)'].to_numpy()\n",
    "labels.shape"
   ]
  },
  {
   "cell_type": "code",
   "execution_count": 74,
   "metadata": {},
   "outputs": [
    {
     "data": {
      "text/plain": [
       "113"
      ]
     },
     "execution_count": 74,
     "metadata": {},
     "output_type": "execute_result"
    }
   ],
   "source": [
    "predictions = np.where(test > 0.5, 1, 0)\n",
    "labels = np.where(labels > 0.5, 1, 0)\n",
    "average_wrongs = np.logical_xor(predictions, labels).sum()\n",
    "average_wrongs"
   ]
  },
  {
   "cell_type": "code",
   "execution_count": 75,
   "metadata": {},
   "outputs": [],
   "source": [
    "labels1 = labels[:len(labels)//2]\n",
    "labels2 = labels[len(labels)//2:]\n",
    "\n",
    "r1a = r1[:len(r1)//2]\n",
    "r1b = r1[len(r1)//2:]\n",
    "\n",
    "r2a = r2[:len(r2)//2]\n",
    "r2b = r2[len(r2)//2:]\n",
    "\n",
    "r3a = r3[:len(r3)//2]\n",
    "r3b = r3[len(r3)//2:]\n",
    "\n",
    "test1 = np.stack((r1a, r2a, r3a), axis=0)\n",
    "test2 = np.stack((r1b, r2b, r3b), axis=0)"
   ]
  },
  {
   "cell_type": "code",
   "execution_count": 79,
   "metadata": {},
   "outputs": [],
   "source": [
    "import numpy as np \n",
    "import pandas as pd \n",
    "\n",
    "def objective_function(x, test, prob):\n",
    "    a, b, c = x\n",
    "    return np.sum((a * test[0] + b * test[1] + c * test[2] - prob) ** 2)\n",
    "\n",
    "def constraint(x):\n",
    "    return np.sum(x) - 1\n",
    "\n",
    "# create a random np vector of probabilities\n",
    "prob = labels1 \n",
    "\n",
    "test = np.stack((r1, r2, r3), axis=0)\n",
    "\n",
    "x0 = np.array([1/3, 1/3, 1/3])"
   ]
  },
  {
   "cell_type": "code",
   "execution_count": 80,
   "metadata": {},
   "outputs": [
    {
     "data": {
      "text/plain": [
       "(39.355011407649656, 37.52143337508387)"
      ]
     },
     "execution_count": 80,
     "metadata": {},
     "output_type": "execute_result"
    }
   ],
   "source": [
    "objective_function(x0, test1, labels1), objective_function(x0, test2, labels2)"
   ]
  },
  {
   "cell_type": "code",
   "execution_count": 85,
   "metadata": {},
   "outputs": [
    {
     "name": "stdout",
     "output_type": "stream",
     "text": [
      "Optimal values:\n",
      "a = 0.0\n",
      "b = 0.32036973827272186\n",
      "c = 0.6796302617274056\n",
      "Objective function value: 71.19941092702837\n"
     ]
    }
   ],
   "source": [
    "import numpy as np\n",
    "from scipy.optimize import minimize\n",
    "\n",
    "con = {'type': 'eq', 'fun': constraint}\n",
    "bounds = [(0, 1), (0, 1), (0, 1)]  # a, b, c >= 0 and <= 1\n",
    "\n",
    "result = minimize(objective_function, x0, args=(test, labels), bounds=bounds, constraints=con)\n",
    "\n",
    "print(\"Optimal values:\")\n",
    "print(\"a =\", result.x[0])\n",
    "print(\"b =\", result.x[1])\n",
    "print(\"c =\", result.x[2])\n",
    "print(\"Objective function value:\", result.fun)"
   ]
  },
  {
   "cell_type": "code",
   "execution_count": 84,
   "metadata": {},
   "outputs": [
    {
     "data": {
      "text/plain": [
       "35.860131829091316"
      ]
     },
     "execution_count": 84,
     "metadata": {},
     "output_type": "execute_result"
    }
   ],
   "source": [
    "objective_function(result.x, test2, labels2)"
   ]
  },
  {
   "cell_type": "code",
   "execution_count": 86,
   "metadata": {},
   "outputs": [],
   "source": [
    "import os\n",
    "import pandas as pd\n",
    "import numpy as np\n",
    "\n",
    "path = '/data1/malto/shroom'\n",
    "\n",
    "results1 = pd.read_csv(path + '/baseline.csv')\n",
    "results2 = pd.read_csv(path + '/crlft.csv')\n",
    "results3 = pd.read_csv(path + '/sequential_nogpt.csv')"
   ]
  },
  {
   "cell_type": "code",
   "execution_count": 88,
   "metadata": {},
   "outputs": [
    {
     "data": {
      "text/html": [
       "<div>\n",
       "<style scoped>\n",
       "    .dataframe tbody tr th:only-of-type {\n",
       "        vertical-align: middle;\n",
       "    }\n",
       "\n",
       "    .dataframe tbody tr th {\n",
       "        vertical-align: top;\n",
       "    }\n",
       "\n",
       "    .dataframe thead th {\n",
       "        text-align: right;\n",
       "    }\n",
       "</style>\n",
       "<table border=\"1\" class=\"dataframe\">\n",
       "  <thead>\n",
       "    <tr style=\"text-align: right;\">\n",
       "      <th></th>\n",
       "      <th>crlft_alldata_deberta_xlarge_forzen_22_sequential</th>\n",
       "    </tr>\n",
       "  </thead>\n",
       "  <tbody>\n",
       "    <tr>\n",
       "      <th>0</th>\n",
       "      <td>0.045296</td>\n",
       "    </tr>\n",
       "    <tr>\n",
       "      <th>1</th>\n",
       "      <td>0.128770</td>\n",
       "    </tr>\n",
       "    <tr>\n",
       "      <th>2</th>\n",
       "      <td>0.012510</td>\n",
       "    </tr>\n",
       "    <tr>\n",
       "      <th>3</th>\n",
       "      <td>0.928744</td>\n",
       "    </tr>\n",
       "    <tr>\n",
       "      <th>4</th>\n",
       "      <td>0.237917</td>\n",
       "    </tr>\n",
       "    <tr>\n",
       "      <th>...</th>\n",
       "      <td>...</td>\n",
       "    </tr>\n",
       "    <tr>\n",
       "      <th>1495</th>\n",
       "      <td>0.013449</td>\n",
       "    </tr>\n",
       "    <tr>\n",
       "      <th>1496</th>\n",
       "      <td>0.923321</td>\n",
       "    </tr>\n",
       "    <tr>\n",
       "      <th>1497</th>\n",
       "      <td>0.012414</td>\n",
       "    </tr>\n",
       "    <tr>\n",
       "      <th>1498</th>\n",
       "      <td>0.013565</td>\n",
       "    </tr>\n",
       "    <tr>\n",
       "      <th>1499</th>\n",
       "      <td>0.371414</td>\n",
       "    </tr>\n",
       "  </tbody>\n",
       "</table>\n",
       "<p>1500 rows × 1 columns</p>\n",
       "</div>"
      ],
      "text/plain": [
       "      crlft_alldata_deberta_xlarge_forzen_22_sequential\n",
       "0                                              0.045296\n",
       "1                                              0.128770\n",
       "2                                              0.012510\n",
       "3                                              0.928744\n",
       "4                                              0.237917\n",
       "...                                                 ...\n",
       "1495                                           0.013449\n",
       "1496                                           0.923321\n",
       "1497                                           0.012414\n",
       "1498                                           0.013565\n",
       "1499                                           0.371414\n",
       "\n",
       "[1500 rows x 1 columns]"
      ]
     },
     "execution_count": 88,
     "metadata": {},
     "output_type": "execute_result"
    }
   ],
   "source": [
    "results2"
   ]
  },
  {
   "cell_type": "code",
   "execution_count": 89,
   "metadata": {},
   "outputs": [
    {
     "data": {
      "text/plain": [
       "(1500,)"
      ]
     },
     "execution_count": 89,
     "metadata": {},
     "output_type": "execute_result"
    }
   ],
   "source": [
    "r1 = 1 - results1['baseline'].to_numpy()\n",
    "r2 = results2['crlft_alldata_deberta_xlarge_forzen_22_sequential'].to_numpy()\n",
    "r3 = 1 - results3['sequential_nogpt_deberta_xlarge'].to_numpy()\n",
    "\n",
    "test = np.stack((r1, r2, r3), axis=0).mean(axis=0)\n",
    "test.shape"
   ]
  },
  {
   "cell_type": "code",
   "execution_count": 91,
   "metadata": {},
   "outputs": [
    {
     "data": {
      "text/plain": [
       "array([0.15826581, 0.25350449, 0.04561327, ..., 0.06345979, 0.02640206,\n",
       "       0.38677652])"
      ]
     },
     "execution_count": 91,
     "metadata": {},
     "output_type": "execute_result"
    }
   ],
   "source": [
    "r1_new = result.x[0] * r1\n",
    "r2_new = result.x[1] * r2\n",
    "r3_new = result.x[2] * r3\n",
    "\n",
    "res = r1_new + r2_new + r3_new\n",
    "res"
   ]
  },
  {
   "cell_type": "code",
   "execution_count": 95,
   "metadata": {},
   "outputs": [],
   "source": [
    "panda = pd.DataFrame(res, columns=['p(Hallucination)'])\n",
    "panda.to_csv(path + '/lp_ensemble.csv', index=False)"
   ]
  },
  {
   "cell_type": "code",
   "execution_count": 97,
   "metadata": {},
   "outputs": [
    {
     "data": {
      "text/plain": [
       "array([0.15826581, 0.25350449, 0.04561327, ..., 0.06345979, 0.02640206,\n",
       "       0.38677652])"
      ]
     },
     "execution_count": 97,
     "metadata": {},
     "output_type": "execute_result"
    }
   ],
   "source": [
    "res = pd.read_csv(path + '/lp_ensemble.csv')['p(Hallucination)'].to_numpy()\n",
    "res"
   ]
  },
  {
   "cell_type": "code",
   "execution_count": 99,
   "metadata": {},
   "outputs": [
    {
     "data": {
      "text/plain": [
       "54"
      ]
     },
     "execution_count": 99,
     "metadata": {},
     "output_type": "execute_result"
    }
   ],
   "source": [
    "labels_sequential = np.where(r3 > 0.5, 1, 0)\n",
    "labels_ensemble = np.where(res > 0.5, 1, 0)\n",
    "differences = np.logical_xor(labels_sequential, labels_ensemble).sum()\n",
    "differences"
   ]
  }
 ],
 "metadata": {
  "kernelspec": {
   "display_name": "base",
   "language": "python",
   "name": "python3"
  },
  "language_info": {
   "codemirror_mode": {
    "name": "ipython",
    "version": 3
   },
   "file_extension": ".py",
   "mimetype": "text/x-python",
   "name": "python",
   "nbconvert_exporter": "python",
   "pygments_lexer": "ipython3",
   "version": "3.9.7"
  }
 },
 "nbformat": 4,
 "nbformat_minor": 2
}
