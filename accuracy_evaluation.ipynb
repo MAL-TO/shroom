{
 "cells": [
  {
   "cell_type": "code",
   "execution_count": null,
   "metadata": {},
   "outputs": [],
   "source": [
    "import pickle\n",
    "import os\n",
    "\n",
    "import numpy as np\n",
    "import pandas as pd\n",
    "\n",
    "use_mnli = False\n",
    "path = 'paper_results_mnli/' if use_mnli else 'paper_results/'\n",
    "\n",
    "# get all the files pickle in the path directory\n",
    "files = os.listdir(path)\n",
    "files = [f for f in files if f.endswith('.csv')]\n",
    "#files"
   ]
  },
  {
   "cell_type": "code",
   "execution_count": null,
   "metadata": {},
   "outputs": [],
   "source": [
    "# order list of files\n",
    "files = sorted(files)\n",
    "\n",
    "# remove file that contain val in the name\n",
    "files = [f for f in files if 'val' not in f]\n",
    "#files"
   ]
  },
  {
   "cell_type": "code",
   "execution_count": null,
   "metadata": {},
   "outputs": [],
   "source": [
    "# read test.model-agnostic.json \n",
    "from datasets import load_dataset, concatenate_datasets, DatasetDict\n",
    "\n",
    "test = load_dataset(\"json\", data_files=[\"test.model-agnostic.json\"])"
   ]
  },
  {
   "cell_type": "code",
   "execution_count": null,
   "metadata": {},
   "outputs": [],
   "source": [
    "ground_truth = test['train']['label']"
   ]
  },
  {
   "cell_type": "code",
   "execution_count": null,
   "metadata": {},
   "outputs": [],
   "source": [
    "results = []\n",
    "\n",
    "for i, f in enumerate(files): \n",
    "    df = pd.read_csv(os.path.join(path, f))\n",
    "    # take the first column of the dataframe\n",
    "    col = df.columns[0]\n",
    "    preds = df[col].values\n",
    "    preds = np.array(preds)\n",
    "\n",
    "    # for every element of pred, if it is >0.5, then it is 1, else 0\n",
    "    preds = np.where(preds > 0.5, 'Hallucination', 'Not Hallucination')\n",
    "    results.append(np.sum(preds == ground_truth))\n",
    "    #name = f.split('.')[0]\n",
    "    #(name, np.sum(preds == ground_truth))\n",
    "\n",
    "    if len(results) == 5:\n",
    "        results = np.array(results)\n",
    "        results = results / len(ground_truth)\n",
    "        results = results * 100\n",
    "        results = np.round(results, 2)\n",
    "\n",
    "        name = f.split('.')[0]\n",
    "        print(name, results.mean(), \"+-\", results.std(ddof=1))\n",
    "        results = []\n"
   ]
  },
  {
   "cell_type": "code",
   "execution_count": null,
   "metadata": {},
   "outputs": [],
   "source": [
    "np.unique(preds, return_counts=True)"
   ]
  }
 ],
 "metadata": {
  "kernelspec": {
   "display_name": "venv",
   "language": "python",
   "name": "python3"
  },
  "language_info": {
   "codemirror_mode": {
    "name": "ipython",
    "version": 3
   },
   "file_extension": ".py",
   "mimetype": "text/x-python",
   "name": "python",
   "nbconvert_exporter": "python",
   "pygments_lexer": "ipython3",
   "version": "3.9.7"
  }
 },
 "nbformat": 4,
 "nbformat_minor": 2
}
