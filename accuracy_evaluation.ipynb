{
 "cells": [
  {
   "cell_type": "code",
   "execution_count": 1,
   "metadata": {},
   "outputs": [],
   "source": [
    "import pickle\n",
    "import os\n",
    "\n",
    "import numpy as np\n",
    "import pandas as pd\n",
    "\n",
    "use_mnli = False\n",
    "path = 'paper_results_mnli/' if use_mnli else 'paper_results/'\n",
    "\n",
    "# get all the files pickle in the path directory\n",
    "files = os.listdir(path)\n",
    "files = [f for f in files if f.endswith('.csv')]\n",
    "#files"
   ]
  },
  {
   "cell_type": "code",
   "execution_count": 2,
   "metadata": {},
   "outputs": [],
   "source": [
    "# order list of files\n",
    "files = sorted(files)\n",
    "\n",
    "# remove file that contain val in the name\n",
    "files = [f for f in files if 'val' not in f]\n",
    "#files"
   ]
  },
  {
   "cell_type": "code",
   "execution_count": 3,
   "metadata": {},
   "outputs": [
    {
     "name": "stderr",
     "output_type": "stream",
     "text": [
      "/data1/malto/csavelli/venv/lib/python3.9/site-packages/tqdm/auto.py:21: TqdmWarning: IProgress not found. Please update jupyter and ipywidgets. See https://ipywidgets.readthedocs.io/en/stable/user_install.html\n",
      "  from .autonotebook import tqdm as notebook_tqdm\n"
     ]
    }
   ],
   "source": [
    "# read test.model-agnostic.json \n",
    "from datasets import load_dataset, concatenate_datasets, DatasetDict\n",
    "\n",
    "test = load_dataset(\"json\", data_files=[\"test.model-agnostic.json\"])"
   ]
  },
  {
   "cell_type": "markdown",
   "metadata": {},
   "source": [
    "# Table Results"
   ]
  },
  {
   "cell_type": "code",
   "execution_count": 4,
   "metadata": {},
   "outputs": [],
   "source": [
    "ground_truth = test['train']['label']"
   ]
  },
  {
   "cell_type": "code",
   "execution_count": null,
   "metadata": {},
   "outputs": [],
   "source": [
    "results = []\n",
    "\n",
    "for i, f in enumerate(files): \n",
    "    df = pd.read_csv(os.path.join(path, f))\n",
    "    # take the first column of the dataframe\n",
    "    col = df.columns[0]\n",
    "    preds = df[col].values\n",
    "    preds = np.array(preds)\n",
    "\n",
    "    # for every element of pred, if it is >0.5, then it is 1, else 0\n",
    "    preds = np.where(preds > 0.5, 'Hallucination', 'Not Hallucination')\n",
    "    results.append(np.sum(preds == ground_truth))\n",
    "    #name = f.split('.')[0]\n",
    "    #(name, np.sum(preds == ground_truth))\n",
    "\n",
    "    if len(results) == 5:\n",
    "        results = np.array(results)\n",
    "        results = results / len(ground_truth)\n",
    "        results = results * 100\n",
    "        results = np.round(results, 2)\n",
    "\n",
    "        name = f.split('.')[0]\n",
    "        print(name, results.mean(), \"+-\", results.std(ddof=1))\n",
    "        results = []\n"
   ]
  },
  {
   "cell_type": "code",
   "execution_count": null,
   "metadata": {},
   "outputs": [],
   "source": [
    "np.unique(preds, return_counts=True)"
   ]
  },
  {
   "cell_type": "markdown",
   "metadata": {},
   "source": [
    "# Examples"
   ]
  },
  {
   "cell_type": "code",
   "execution_count": 6,
   "metadata": {},
   "outputs": [],
   "source": [
    "ground_truth = test['train']['p(Hallucination)']"
   ]
  },
  {
   "cell_type": "code",
   "execution_count": 9,
   "metadata": {},
   "outputs": [],
   "source": [
    "name_file = 'sequential_test0.csv'"
   ]
  },
  {
   "cell_type": "code",
   "execution_count": 31,
   "metadata": {},
   "outputs": [
    {
     "name": "stdout",
     "output_type": "stream",
     "text": [
      "0.11857715\n",
      "0.098158024\n",
      "0.12029305\n",
      "0.0801174\n",
      "0.14421432\n"
     ]
    },
    {
     "data": {
      "text/plain": [
       "0.1122719888"
      ]
     },
     "execution_count": 31,
     "metadata": {},
     "output_type": "execute_result"
    }
   ],
   "source": [
    "vectors = []\n",
    "\n",
    "for i in range(5):\n",
    "    name_file = f'sequential_test{i}.csv'\n",
    "    df = pd.read_csv(os.path.join(path, name_file))\n",
    "    # take the first column of the dataframe\n",
    "    col = df.columns[0]\n",
    "    preds = df[col].values\n",
    "    preds = np.array(preds)\n",
    "    print(preds[0])\n",
    "    vectors.append(preds)\n",
    "\n",
    "vectors = np.array(vectors)\n",
    "vectors = np.mean(vectors, axis=0)\n",
    "vectors[0]"
   ]
  },
  {
   "cell_type": "code",
   "execution_count": 32,
   "metadata": {},
   "outputs": [
    {
     "data": {
      "text/plain": [
       "(1104, 47)"
      ]
     },
     "execution_count": 32,
     "metadata": {},
     "output_type": "execute_result"
    }
   ],
   "source": [
    "# find the most similar index between preds and ground_truth\n",
    "most_similar_idx = np.argmin(np.abs(preds - ground_truth))\n",
    "less_similar_idx = np.argmax(np.abs(preds - ground_truth))\n",
    "\n",
    "most_similar_idx, less_similar_idx"
   ]
  },
  {
   "cell_type": "code",
   "execution_count": 41,
   "metadata": {},
   "outputs": [
    {
     "name": "stdout",
     "output_type": "stream",
     "text": [
      "0.4 0.40015212\n",
      "['Король Харальд Гормссон, более известный как Харальд Синезубый, ввёл в Дании христианство.']\n",
      "['King Harald Hormsson, better known as Harald Sinezubii, introduced Christianity to Denmark.']\n",
      "['King Harald Gormsson, better known as “Harald Bluetooth\", introduced Christianity to Denmark.']\n",
      "['MT']\n"
     ]
    }
   ],
   "source": [
    "# get the most similar and less similar examples in the dataset \n",
    "most_similar = test['train'].select([most_similar_idx])\n",
    "print(most_similar['p(Hallucination)'][0], preds[most_similar_idx])\n",
    "print(most_similar['src'])\n",
    "print(most_similar['hyp'])\n",
    "print(most_similar['tgt'])\n",
    "print(most_similar['task'])"
   ]
  },
  {
   "cell_type": "code",
   "execution_count": 40,
   "metadata": {},
   "outputs": [
    {
     "name": "stdout",
     "output_type": "stream",
     "text": [
      "0.0 0.90984696\n",
      "[\"Why'd you got to go and do that?\"]\n",
      "['Why did you have to go do that?']\n",
      "['Why would you say that?']\n",
      "['PG']\n"
     ]
    }
   ],
   "source": [
    "less_similar = test['train'].select([less_similar_idx])\n",
    "print(less_similar['p(Hallucination)'][0], preds[less_similar_idx])\n",
    "print(less_similar['src'])\n",
    "print(less_similar['hyp'])\n",
    "print(less_similar['tgt'])\n",
    "print(less_similar['task'])"
   ]
  },
  {
   "cell_type": "markdown",
   "metadata": {},
   "source": []
  }
 ],
 "metadata": {
  "kernelspec": {
   "display_name": "venv",
   "language": "python",
   "name": "python3"
  },
  "language_info": {
   "codemirror_mode": {
    "name": "ipython",
    "version": 3
   },
   "file_extension": ".py",
   "mimetype": "text/x-python",
   "name": "python",
   "nbconvert_exporter": "python",
   "pygments_lexer": "ipython3",
   "version": "3.9.7"
  }
 },
 "nbformat": 4,
 "nbformat_minor": 2
}
