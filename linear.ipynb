{
 "cells": [
  {
   "cell_type": "code",
   "execution_count": 18,
   "metadata": {},
   "outputs": [],
   "source": [
    "import numpy as np \n",
    "import pandas as pd \n",
    "\n",
    "def objective_function(x, test, prob):\n",
    "    a, b, c = x\n",
    "    return np.sum((a * test[0] + b * test[1] + c * test[2] - prob) ** 2)\n",
    "\n",
    "def constraint(x):\n",
    "    return np.sum(x) - 1\n",
    "\n",
    "# create a random np vector of probabilities\n",
    "prob = np.random.random(500)\n",
    "\n",
    "test = np.random.random((3,500))\n",
    "\n",
    "x0 = np.array([1/3, 1/3, 1/3])"
   ]
  },
  {
   "cell_type": "code",
   "execution_count": 19,
   "metadata": {},
   "outputs": [
    {
     "data": {
      "text/plain": [
       "53.964975079416796"
      ]
     },
     "execution_count": 19,
     "metadata": {},
     "output_type": "execute_result"
    }
   ],
   "source": [
    "objective_function(x0, test, prob)"
   ]
  },
  {
   "cell_type": "code",
   "execution_count": 20,
   "metadata": {},
   "outputs": [
    {
     "name": "stdout",
     "output_type": "stream",
     "text": [
      "Optimal values:\n",
      "a = 0.3520261659868651\n",
      "b = 0.33936192866185355\n",
      "c = 0.30861190535128136\n",
      "Objective function value: 53.92316611331649\n"
     ]
    }
   ],
   "source": [
    "import numpy as np\n",
    "from scipy.optimize import minimize\n",
    "\n",
    "con = {'type': 'eq', 'fun': constraint}\n",
    "bounds = [(0, 1), (0, 1), (0, 1)]  # a, b, c >= 0 and <= 1\n",
    "\n",
    "result = minimize(objective_function, x0, args=(test, prob), bounds=bounds, constraints=con)\n",
    "\n",
    "print(\"Optimal values:\")\n",
    "print(\"a =\", result.x[0])\n",
    "print(\"b =\", result.x[1])\n",
    "print(\"c =\", result.x[2])\n",
    "print(\"Objective function value:\", result.fun)"
   ]
  }
 ],
 "metadata": {
  "kernelspec": {
   "display_name": "base",
   "language": "python",
   "name": "python3"
  },
  "language_info": {
   "codemirror_mode": {
    "name": "ipython",
    "version": 3
   },
   "file_extension": ".py",
   "mimetype": "text/x-python",
   "name": "python",
   "nbconvert_exporter": "python",
   "pygments_lexer": "ipython3",
   "version": "3.10.11"
  }
 },
 "nbformat": 4,
 "nbformat_minor": 2
}
