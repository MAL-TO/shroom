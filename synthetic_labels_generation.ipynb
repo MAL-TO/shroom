{
 "cells": [
  {
   "cell_type": "code",
   "execution_count": 60,
   "metadata": {},
   "outputs": [],
   "source": [
    "import os\n",
    "os.environ['HF_HOME'] = '/data1/malto/cache'"
   ]
  },
  {
   "cell_type": "markdown",
   "metadata": {},
   "source": [
    "# Using a Quantized LLM and Few-Shot Learning to Generate Synthetic Labels"
   ]
  },
  {
   "cell_type": "code",
   "execution_count": 68,
   "metadata": {},
   "outputs": [],
   "source": [
    "from transformers import AutoModelForCausalLM, AutoTokenizer\n",
    "from pathlib import Path\n",
    "from random import random\n",
    "from datasets import load_dataset\n",
    "\n",
    "#model_name_or_path = \"TheBloke/Mixtral-8x7B-Instruct-v0.1-GPTQ\"\n",
    "#revision = \"gptq-3bit-128g-actorder_True\"\n",
    "\n",
    "model_name_or_path = \"TheBloke/SOLAR-10.7B-Instruct-v1.0-GPTQ\"\n",
    "revision = \"gptq-8bit-32g-actorder_True\"\n",
    "\n",
    "# tasks MT, DM, PG\n",
    "\n",
    "TASK_TYPE = \"PG\"\n",
    "BATCH_SIZE = 40\n",
    "BASE_DIR = Path(\"/data1/malto/shroom\")\n",
    "\n",
    "# To use a different branch, change revision\n",
    "# For example: revision=\"gptq-4bit-128g-actorder_True\"\n",
    "\n",
    "model = AutoModelForCausalLM.from_pretrained(model_name_or_path,\n",
    "                                             device_map=\"auto\",\n",
    "                                             trust_remote_code=False,\n",
    "                                             revision=revision)\n",
    "\n",
    "tokenizer = AutoTokenizer.from_pretrained(model_name_or_path, use_fast=True)\n",
    "\n",
    "if tokenizer.pad_token == None: # apparently Mixtral does not have a padding token in tokenizer\n",
    "    tokenizer.pad_token = tokenizer.eos_token\n",
    "tokenizer.truncation_side = \"left\""
   ]
  },
  {
   "cell_type": "code",
   "execution_count": 3,
   "metadata": {},
   "outputs": [
    {
     "data": {
      "application/vnd.jupyter.widget-view+json": {
       "model_id": "5dd9d1367cc74423adaf7e0b4a1f501e",
       "version_major": 2,
       "version_minor": 0
      },
      "text/plain": [
       "Filter:   0%|          | 0/499 [00:00<?, ? examples/s]"
      ]
     },
     "metadata": {},
     "output_type": "display_data"
    },
    {
     "data": {
      "text/plain": [
       "Dataset({\n",
       "    features: ['labels', 'label', 'model', 'ref', 'hyp', 'task', 'tgt', 'p(Hallucination)', 'src'],\n",
       "    num_rows: 187\n",
       "})"
      ]
     },
     "execution_count": 3,
     "metadata": {},
     "output_type": "execute_result"
    }
   ],
   "source": [
    "ds = load_dataset(\"json\", data_files=[\"/data1/malto/shroom/val.model-agnostic.json\"]).shuffle()\n",
    "ds['train'] = ds['train'].filter(lambda x: x['task'] == TASK_TYPE)\n",
    "ds['train']"
   ]
  },
  {
   "cell_type": "code",
   "execution_count": 4,
   "metadata": {},
   "outputs": [
    {
     "name": "stdout",
     "output_type": "stream",
     "text": [
      "[INST] The following are examples of pairs of hyp and tgt sentences that can either be Hallucination or Not Hallucination depending on how similar they are [\\INST]\n",
      "\n",
      "Example 1\n",
      "<HYP>: Tom became a father.\n",
      "<TGT>: Tom is a father now.\n",
      "<LABEL>: Not Hallucination\n",
      "\n",
      "Example 2\n",
      "<HYP>: I would like to leave a comment.\n",
      "<TGT>: I'd like to leave feedback.\n",
      "<LABEL>: Not Hallucination\n",
      "\n",
      "Example 3\n",
      "<HYP>: What do you do you want to do?\n",
      "<TGT>: Do you think that we'll ever make money doing this?\n",
      "<LABEL>: Hallucination\n",
      "\n",
      "Example 4\n",
      "<HYP>: That's the only one here who has no driver's license?\n",
      "<TGT>: Is Tom the only one here who doesn't have a driver's license?\n",
      "<LABEL>: Not Hallucination\n",
      "\n",
      "Example 5\n",
      "<HYP>: Do not use your phone while driving.\n",
      "<TGT>: Don't use your phone while driving.\n",
      "<LABEL>: Not Hallucination\n",
      "\n"
     ]
    }
   ],
   "source": [
    "num_examples = 5\n",
    "num_samples = len(ds['train'])\n",
    "examples = \"[INST] The following are examples of pairs of hyp and tgt sentences that can either be Hallucination or Not Hallucination depending on how similar they are [\\INST]\\n\"\n",
    "\n",
    "for i in range(num_examples):\n",
    "    num = int(random() * num_samples)\n",
    "    hyp = ds['train'][num]['hyp']\n",
    "    tgt = ds['train'][num]['tgt']\n",
    "    label = ds['train'][num]['label']\n",
    "    examples += f\"\\nExample {i+1}\\n<HYP>: {hyp}\\n<TGT>: {tgt}\\n<LABEL>: {label}\\n\"\n",
    "print(examples)"
   ]
  },
  {
   "cell_type": "code",
   "execution_count": 5,
   "metadata": {},
   "outputs": [],
   "source": [
    "def generate_prompt(mapped_ds):\n",
    "    hyp = mapped_ds[\"hyp\"]\n",
    "    tgt = mapped_ds[\"tgt\"] if mapped_ds['ref'] != \"src\" else mapped_ds['src']\n",
    "    prompt = f\"{examples}\\n Example {num_examples+1}\\n<HYP>: {hyp}\\n<TGT>: {tgt}\\n<LABEL>: \"\n",
    "    return {'prompts' : prompt}"
   ]
  },
  {
   "cell_type": "code",
   "execution_count": 6,
   "metadata": {},
   "outputs": [
    {
     "data": {
      "application/vnd.jupyter.widget-view+json": {
       "model_id": "7041197a80aa4d348ed3dcb10113b2f7",
       "version_major": 2,
       "version_minor": 0
      },
      "text/plain": [
       "Map:   0%|          | 0/187 [00:00<?, ? examples/s]"
      ]
     },
     "metadata": {},
     "output_type": "display_data"
    },
    {
     "data": {
      "text/plain": [
       "DatasetDict({\n",
       "    train: Dataset({\n",
       "        features: ['labels', 'label', 'model', 'ref', 'hyp', 'task', 'tgt', 'p(Hallucination)', 'src', 'prompts'],\n",
       "        num_rows: 187\n",
       "    })\n",
       "})"
      ]
     },
     "execution_count": 6,
     "metadata": {},
     "output_type": "execute_result"
    }
   ],
   "source": [
    "ds = ds.map(generate_prompt)\n",
    "ds"
   ]
  },
  {
   "cell_type": "code",
   "execution_count": 7,
   "metadata": {},
   "outputs": [],
   "source": [
    "def generate_prediction(mapped_ds):\n",
    "    input_ids = tokenizer(mapped_ds['prompts'], padding=True, truncation=True, max_length=500, return_tensors='pt').input_ids.cuda()\n",
    "    output = model.generate(inputs=input_ids, temperature=0.01, do_sample=True, top_p=0.95, top_k=40, max_new_tokens=5)\n",
    "    decoded_output = tokenizer.batch_decode(output)\n",
    "    return {'output' : decoded_output}"
   ]
  },
  {
   "cell_type": "code",
   "execution_count": 8,
   "metadata": {},
   "outputs": [
    {
     "data": {
      "application/vnd.jupyter.widget-view+json": {
       "model_id": "787e4154f9d64d7ebddce326937c3584",
       "version_major": 2,
       "version_minor": 0
      },
      "text/plain": [
       "Map:   0%|          | 0/187 [00:00<?, ? examples/s]"
      ]
     },
     "metadata": {},
     "output_type": "display_data"
    },
    {
     "name": "stderr",
     "output_type": "stream",
     "text": [
      "/data1/malto/fborra/venv/lib/python3.9/site-packages/transformers/generation/utils.py:1547: UserWarning: You have modified the pretrained model configuration to control generation. This is a deprecated strategy to control generation and will be removed soon, in a future version. Please use and modify the model generation configuration (see https://huggingface.co/docs/transformers/generation_strategies#default-text-generation-configuration )\n",
      "  warnings.warn(\n"
     ]
    },
    {
     "data": {
      "text/plain": [
       "DatasetDict({\n",
       "    train: Dataset({\n",
       "        features: ['labels', 'label', 'model', 'ref', 'hyp', 'task', 'tgt', 'p(Hallucination)', 'src', 'prompts', 'output'],\n",
       "        num_rows: 187\n",
       "    })\n",
       "})"
      ]
     },
     "execution_count": 8,
     "metadata": {},
     "output_type": "execute_result"
    }
   ],
   "source": [
    "ds = ds.map(generate_prediction, batched=True, batch_size=BATCH_SIZE)\n",
    "ds"
   ]
  },
  {
   "cell_type": "code",
   "execution_count": 9,
   "metadata": {},
   "outputs": [],
   "source": [
    "def extract_synthetic_label(mapped_ds):\n",
    "    syn_labels = []\n",
    "    for item in mapped_ds['output']:\n",
    "        if \"Not\" in item.splitlines()[-1]:\n",
    "            syn_labels.append(\"Not Hallucination\")\n",
    "        else:\n",
    "            syn_labels.append(\"Hallucination\")\n",
    "    return {'synthetic_labels' : syn_labels}"
   ]
  },
  {
   "cell_type": "code",
   "execution_count": 10,
   "metadata": {},
   "outputs": [
    {
     "data": {
      "application/vnd.jupyter.widget-view+json": {
       "model_id": "eb74603e541443a28a9db3889fd38c25",
       "version_major": 2,
       "version_minor": 0
      },
      "text/plain": [
       "Map:   0%|          | 0/187 [00:00<?, ? examples/s]"
      ]
     },
     "metadata": {},
     "output_type": "display_data"
    },
    {
     "data": {
      "text/plain": [
       "DatasetDict({\n",
       "    train: Dataset({\n",
       "        features: ['labels', 'label', 'model', 'ref', 'hyp', 'task', 'tgt', 'p(Hallucination)', 'src', 'prompts', 'output', 'synthetic_labels'],\n",
       "        num_rows: 187\n",
       "    })\n",
       "})"
      ]
     },
     "execution_count": 10,
     "metadata": {},
     "output_type": "execute_result"
    }
   ],
   "source": [
    "ds = ds.map(extract_synthetic_label, batched=True)\n",
    "ds"
   ]
  },
  {
   "cell_type": "code",
   "execution_count": 11,
   "metadata": {},
   "outputs": [
    {
     "data": {
      "text/plain": [
       "0.839572192513369"
      ]
     },
     "execution_count": 11,
     "metadata": {},
     "output_type": "execute_result"
    }
   ],
   "source": [
    "correct = 0\n",
    "for a, b in zip(ds['train']['label'], ds['train']['synthetic_labels']):\n",
    "    if a == b:\n",
    "        correct += 1\n",
    "correct / num_samples"
   ]
  },
  {
   "cell_type": "code",
   "execution_count": 12,
   "metadata": {},
   "outputs": [
    {
     "data": {
      "text/plain": [
       "{'labels': ['Not Hallucination',\n",
       "  'Hallucination',\n",
       "  'Hallucination',\n",
       "  'Not Hallucination',\n",
       "  'Not Hallucination'],\n",
       " 'label': 'Not Hallucination',\n",
       " 'model': '',\n",
       " 'ref': 'either',\n",
       " 'hyp': 'This knife was very good for me.',\n",
       " 'task': 'MT',\n",
       " 'tgt': 'This knife was very useful to me.',\n",
       " 'p(Hallucination)': 0.4,\n",
       " 'src': 'Этот нож очень мне пригодился.',\n",
       " 'prompts': \"[INST] The following are examples of pairs of hyp and tgt sentences that can either be Hallucination or Not Hallucination depending on how similar they are [\\\\INST]\\n\\nExample 1\\n<HYP>: Tom became a father.\\n<TGT>: Tom is a father now.\\n<LABEL>: Not Hallucination\\n\\nExample 2\\n<HYP>: I would like to leave a comment.\\n<TGT>: I'd like to leave feedback.\\n<LABEL>: Not Hallucination\\n\\nExample 3\\n<HYP>: What do you do you want to do?\\n<TGT>: Do you think that we'll ever make money doing this?\\n<LABEL>: Hallucination\\n\\nExample 4\\n<HYP>: That's the only one here who has no driver's license?\\n<TGT>: Is Tom the only one here who doesn't have a driver's license?\\n<LABEL>: Not Hallucination\\n\\nExample 5\\n<HYP>: Do not use your phone while driving.\\n<TGT>: Don't use your phone while driving.\\n<LABEL>: Not Hallucination\\n\\n Example 6\\n<HYP>: This knife was very good for me.\\n<TGT>: This knife was very useful to me.\\n<LABEL>: \",\n",
       " 'output': \"</s></s></s></s></s></s></s></s></s></s></s></s></s></s></s></s></s></s></s></s></s></s></s></s></s></s></s></s></s></s></s></s></s></s></s></s></s></s></s></s></s></s></s></s></s></s></s></s></s></s></s></s><s> [INST] The following are examples of pairs of hyp and tgt sentences that can either be Hallucination or Not Hallucination depending on how similar they are [\\\\INST]\\n\\nExample 1\\n<HYP>: Tom became a father.\\n<TGT>: Tom is a father now.\\n<LABEL>: Not Hallucination\\n\\nExample 2\\n<HYP>: I would like to leave a comment.\\n<TGT>: I'd like to leave feedback.\\n<LABEL>: Not Hallucination\\n\\nExample 3\\n<HYP>: What do you do you want to do?\\n<TGT>: Do you think that we'll ever make money doing this?\\n<LABEL>: Hallucination\\n\\nExample 4\\n<HYP>: That's the only one here who has no driver's license?\\n<TGT>: Is Tom the only one here who doesn't have a driver's license?\\n<LABEL>: Not Hallucination\\n\\nExample 5\\n<HYP>: Do not use your phone while driving.\\n<TGT>: Don't use your phone while driving.\\n<LABEL>: Not Hallucination\\n\\n Example 6\\n<HYP>: This knife was very good for me.\\n<TGT>: This knife was very useful to me.\\n<LABEL>:  Not Hallucination\\n\",\n",
       " 'synthetic_labels': 'Not Hallucination'}"
      ]
     },
     "execution_count": 12,
     "metadata": {},
     "output_type": "execute_result"
    }
   ],
   "source": [
    "ds['train'][7]"
   ]
  },
  {
   "cell_type": "markdown",
   "metadata": {},
   "source": [
    "## Create Labels for New Data Points"
   ]
  },
  {
   "cell_type": "code",
   "execution_count": 13,
   "metadata": {},
   "outputs": [],
   "source": [
    "def create_empty_column():\n",
    "    tr_ds = load_dataset(\"json\", data_files=[str(BASE_DIR / \"train.model-agnostic.json\")])\n",
    "    tr_ds = tr_ds.map(lambda x: {'labels' : []})\n",
    "    tr_ds['train'] = tr_ds['train'].filter(lambda x: x['task'] == TASK_TYPE)\n",
    "    tr_ds['train'].to_json(str(BASE_DIR / f\"train_labeled_{TASK_TYPE}_SOLAR.model-agnostic.json\"))\n",
    "\n",
    "#create_empty_column()"
   ]
  },
  {
   "cell_type": "code",
   "execution_count": 32,
   "metadata": {},
   "outputs": [],
   "source": [
    "tr_ds = load_dataset(\"json\", data_files=[str(BASE_DIR / f\"train_labeled_{TASK_TYPE}_SOLAR.model-agnostic.json\")])"
   ]
  },
  {
   "cell_type": "code",
   "execution_count": 15,
   "metadata": {},
   "outputs": [
    {
     "data": {
      "application/vnd.jupyter.widget-view+json": {
       "model_id": "0bc0bbf2d6f54a0d9078f5bcf996e974",
       "version_major": 2,
       "version_minor": 0
      },
      "text/plain": [
       "Map:   0%|          | 0/10000 [00:00<?, ? examples/s]"
      ]
     },
     "metadata": {},
     "output_type": "display_data"
    }
   ],
   "source": [
    "tr_ds = tr_ds.map(generate_prompt)"
   ]
  },
  {
   "cell_type": "code",
   "execution_count": 16,
   "metadata": {},
   "outputs": [
    {
     "data": {
      "application/vnd.jupyter.widget-view+json": {
       "model_id": "3a3fd4f227fb4d14bbf8a2c620a22bd0",
       "version_major": 2,
       "version_minor": 0
      },
      "text/plain": [
       "Map:   0%|          | 0/10000 [00:00<?, ? examples/s]"
      ]
     },
     "metadata": {},
     "output_type": "display_data"
    }
   ],
   "source": [
    "tr_ds = tr_ds.map(generate_prediction, batched=True, batch_size=BATCH_SIZE)"
   ]
  },
  {
   "cell_type": "code",
   "execution_count": 17,
   "metadata": {},
   "outputs": [
    {
     "data": {
      "application/vnd.jupyter.widget-view+json": {
       "model_id": "5139b9e8f54a47b58219ac29f48657d6",
       "version_major": 2,
       "version_minor": 0
      },
      "text/plain": [
       "Map:   0%|          | 0/10000 [00:00<?, ? examples/s]"
      ]
     },
     "metadata": {},
     "output_type": "display_data"
    }
   ],
   "source": [
    "tr_ds = tr_ds.map(extract_synthetic_label, batched=True)"
   ]
  },
  {
   "cell_type": "code",
   "execution_count": 18,
   "metadata": {},
   "outputs": [
    {
     "data": {
      "application/vnd.jupyter.widget-view+json": {
       "model_id": "04a16e755df94f98ae6b43a249b6b013",
       "version_major": 2,
       "version_minor": 0
      },
      "text/plain": [
       "Map:   0%|          | 0/10000 [00:00<?, ? examples/s]"
      ]
     },
     "metadata": {},
     "output_type": "display_data"
    }
   ],
   "source": [
    "def add_prediction(mapped_ds):\n",
    "    mapped_ds['labels'].append(mapped_ds['synthetic_labels'])\n",
    "    return mapped_ds\n",
    "\n",
    "tr_ds = tr_ds.map(add_prediction)"
   ]
  },
  {
   "cell_type": "code",
   "execution_count": 19,
   "metadata": {},
   "outputs": [
    {
     "data": {
      "text/plain": [
       "{'hyp': '♪ I got the joy, joy, joy, joy Down in my heart ♪',\n",
       " 'src': 'I got the joy, joy, joy, joy Down in my heart',\n",
       " 'task': 'PG',\n",
       " 'ref': 'src',\n",
       " 'tgt': '',\n",
       " 'model': '',\n",
       " 'labels': ['Not Hallucination',\n",
       "  'Not Hallucination',\n",
       "  'Not Hallucination',\n",
       "  'Not Hallucination',\n",
       "  'Not Hallucination'],\n",
       " 'prompts': '[INST] The following are examples of pairs of hyp and tgt sentences that can either be Hallucination or Not Hallucination depending on how similar they are [\\\\INST]\\n\\nExample 1\\n<HYP>: There\\'s no way this is going to happen.\\n<TGT>: This can\\'t happen.\\n<LABEL>: Hallucination\\n\\nExample 2\\n<HYP>: Take a close look at it.\\n<TGT>: Take a good look.\\n<LABEL>: Not Hallucination\\n\\nExample 3\\n<HYP>: What do you think I\\'m, like, a monster, like, \"A monster\"?\\n<TGT>: You think I\\'m some kind of a monster?\\n<LABEL>: Hallucination\\n\\nExample 4\\n<HYP>: We don\\'t have the money to risk it, all right?\\n<TGT>: We can\\'t risk that.\\n<LABEL>: Hallucination\\n\\nExample 5\\n<HYP>: You\\'re going somewhere else?\\n<TGT>: What\\'s your point?\\n<LABEL>: Hallucination\\n\\n Example 6\\n<HYP>: ♪ I got the joy, joy, joy, joy Down in my heart ♪\\n<TGT>: I got the joy, joy, joy, joy Down in my heart\\n<LABEL>: ',\n",
       " 'output': '</s></s></s></s></s></s></s></s></s></s></s></s></s></s></s></s></s></s></s></s><s> [INST] The following are examples of pairs of hyp and tgt sentences that can either be Hallucination or Not Hallucination depending on how similar they are [\\\\INST]\\n\\nExample 1\\n<HYP>: There\\'s no way this is going to happen.\\n<TGT>: This can\\'t happen.\\n<LABEL>: Hallucination\\n\\nExample 2\\n<HYP>: Take a close look at it.\\n<TGT>: Take a good look.\\n<LABEL>: Not Hallucination\\n\\nExample 3\\n<HYP>: What do you think I\\'m, like, a monster, like, \"A monster\"?\\n<TGT>: You think I\\'m some kind of a monster?\\n<LABEL>: Hallucination\\n\\nExample 4\\n<HYP>: We don\\'t have the money to risk it, all right?\\n<TGT>: We can\\'t risk that.\\n<LABEL>: Hallucination\\n\\nExample 5\\n<HYP>: You\\'re going somewhere else?\\n<TGT>: What\\'s your point?\\n<LABEL>: Hallucination\\n\\n Example 6\\n<HYP>: ♪ I got the joy, joy, joy, joy Down in my heart ♪\\n<TGT>: I got the joy, joy, joy, joy Down in my heart\\n<LABEL>:  Not Hallucination (',\n",
       " 'synthetic_labels': 'Not Hallucination'}"
      ]
     },
     "execution_count": 19,
     "metadata": {},
     "output_type": "execute_result"
    }
   ],
   "source": [
    "tr_ds['train'][11]"
   ]
  },
  {
   "cell_type": "code",
   "execution_count": 20,
   "metadata": {},
   "outputs": [
    {
     "data": {
      "application/vnd.jupyter.widget-view+json": {
       "model_id": "fe7a58a3083241dfb47c225dbcdb9ab1",
       "version_major": 2,
       "version_minor": 0
      },
      "text/plain": [
       "Creating json from Arrow format:   0%|          | 0/10 [00:00<?, ?ba/s]"
      ]
     },
     "metadata": {},
     "output_type": "display_data"
    },
    {
     "data": {
      "text/plain": [
       "20068245"
      ]
     },
     "execution_count": 20,
     "metadata": {},
     "output_type": "execute_result"
    }
   ],
   "source": [
    "#tr_ds['train'].to_json(str(BASE_DIR / f\"train_labeled_{TASK_TYPE}_SOLAR.model-agnostic.json\"))"
   ]
  },
  {
   "cell_type": "code",
   "execution_count": 26,
   "metadata": {},
   "outputs": [],
   "source": [
    "def remove_prediction(mapped_ds):\n",
    "    mapped_ds['labels'] = mapped_ds['labels'][:-1]\n",
    "    return mapped_ds"
   ]
  },
  {
   "cell_type": "markdown",
   "metadata": {},
   "source": [
    "# Add p(Hallucination) and C-W Weight columns"
   ]
  },
  {
   "cell_type": "code",
   "execution_count": 69,
   "metadata": {},
   "outputs": [],
   "source": [
    "tr_ds = load_dataset(\"json\", data_files=[str(BASE_DIR / f\"train_labeled_{TASK_TYPE}_SOLAR.model-agnostic.json\")])"
   ]
  },
  {
   "cell_type": "code",
   "execution_count": 70,
   "metadata": {},
   "outputs": [
    {
     "data": {
      "application/vnd.jupyter.widget-view+json": {
       "model_id": "b94d57183c044d9dacd2bf6ec969a209",
       "version_major": 2,
       "version_minor": 0
      },
      "text/plain": [
       "Map:   0%|          | 0/10000 [00:00<?, ? examples/s]"
      ]
     },
     "metadata": {},
     "output_type": "display_data"
    },
    {
     "data": {
      "text/plain": [
       "DatasetDict({\n",
       "    train: Dataset({\n",
       "        features: ['hyp', 'src', 'task', 'ref', 'tgt', 'model', 'labels', 'prompts', 'output', 'synthetic_labels', 'C-W'],\n",
       "        num_rows: 10000\n",
       "    })\n",
       "})"
      ]
     },
     "execution_count": 70,
     "metadata": {},
     "output_type": "execute_result"
    }
   ],
   "source": [
    "def generate_cw(mapped_ds):\n",
    "    return {'C-W' : 0.1}\n",
    "\n",
    "tr_ds = tr_ds.map(generate_cw)\n",
    "tr_ds"
   ]
  },
  {
   "cell_type": "code",
   "execution_count": 71,
   "metadata": {},
   "outputs": [
    {
     "data": {
      "application/vnd.jupyter.widget-view+json": {
       "model_id": "b95b194bd65344738bc0352f56764705",
       "version_major": 2,
       "version_minor": 0
      },
      "text/plain": [
       "Map:   0%|          | 0/10000 [00:00<?, ? examples/s]"
      ]
     },
     "metadata": {},
     "output_type": "display_data"
    },
    {
     "data": {
      "text/plain": [
       "DatasetDict({\n",
       "    train: Dataset({\n",
       "        features: ['hyp', 'src', 'task', 'ref', 'tgt', 'model', 'labels', 'prompts', 'output', 'synthetic_labels', 'C-W', 'p(Hallucination)'],\n",
       "        num_rows: 10000\n",
       "    })\n",
       "})"
      ]
     },
     "execution_count": 71,
     "metadata": {},
     "output_type": "execute_result"
    }
   ],
   "source": [
    "def generate_phall(mapped_ds):\n",
    "    count = 0\n",
    "    for el in mapped_ds['labels']:\n",
    "        if el == \"Hallucination\":\n",
    "            count += 1\n",
    "    return {'p(Hallucination)' : count / len(mapped_ds['labels'])}\n",
    "\n",
    "tr_ds = tr_ds.map(generate_phall)\n",
    "tr_ds"
   ]
  },
  {
   "cell_type": "code",
   "execution_count": 72,
   "metadata": {},
   "outputs": [],
   "source": [
    "for el in tr_ds['train']:\n",
    "    if el['synthetic_labels'] == \"Hallucination\":\n",
    "        break"
   ]
  },
  {
   "cell_type": "code",
   "execution_count": 73,
   "metadata": {},
   "outputs": [
    {
     "data": {
      "text/plain": [
       "{'hyp': \"You're not alone, claire- -\",\n",
       " 'src': \"You're not alone, Claire.\",\n",
       " 'task': 'PG',\n",
       " 'ref': 'src',\n",
       " 'tgt': '',\n",
       " 'model': '',\n",
       " 'labels': ['Not Hallucination',\n",
       "  'Not Hallucination',\n",
       "  'Not Hallucination',\n",
       "  'Not Hallucination',\n",
       "  'Hallucination'],\n",
       " 'prompts': '[INST] The following are examples of pairs of hyp and tgt sentences that can either be Hallucination or Not Hallucination depending on how similar they are [\\\\INST]\\n\\nExample 1\\n<HYP>: There\\'s no way this is going to happen.\\n<TGT>: This can\\'t happen.\\n<LABEL>: Hallucination\\n\\nExample 2\\n<HYP>: Take a close look at it.\\n<TGT>: Take a good look.\\n<LABEL>: Not Hallucination\\n\\nExample 3\\n<HYP>: What do you think I\\'m, like, a monster, like, \"A monster\"?\\n<TGT>: You think I\\'m some kind of a monster?\\n<LABEL>: Hallucination\\n\\nExample 4\\n<HYP>: We don\\'t have the money to risk it, all right?\\n<TGT>: We can\\'t risk that.\\n<LABEL>: Hallucination\\n\\nExample 5\\n<HYP>: You\\'re going somewhere else?\\n<TGT>: What\\'s your point?\\n<LABEL>: Hallucination\\n\\n Example 6\\n<HYP>: You\\'re not alone, claire- -\\n<TGT>: You\\'re not alone, Claire.\\n<LABEL>: ',\n",
       " 'output': '</s></s></s></s></s></s></s></s></s></s></s></s></s></s></s></s></s></s></s></s></s></s></s></s></s></s></s></s></s></s></s></s></s></s><s> [INST] The following are examples of pairs of hyp and tgt sentences that can either be Hallucination or Not Hallucination depending on how similar they are [\\\\INST]\\n\\nExample 1\\n<HYP>: There\\'s no way this is going to happen.\\n<TGT>: This can\\'t happen.\\n<LABEL>: Hallucination\\n\\nExample 2\\n<HYP>: Take a close look at it.\\n<TGT>: Take a good look.\\n<LABEL>: Not Hallucination\\n\\nExample 3\\n<HYP>: What do you think I\\'m, like, a monster, like, \"A monster\"?\\n<TGT>: You think I\\'m some kind of a monster?\\n<LABEL>: Hallucination\\n\\nExample 4\\n<HYP>: We don\\'t have the money to risk it, all right?\\n<TGT>: We can\\'t risk that.\\n<LABEL>: Hallucination\\n\\nExample 5\\n<HYP>: You\\'re going somewhere else?\\n<TGT>: What\\'s your point?\\n<LABEL>: Hallucination\\n\\n Example 6\\n<HYP>: You\\'re not alone, claire- -\\n<TGT>: You\\'re not alone, Claire.\\n<LABEL>:  Hallucination (The',\n",
       " 'synthetic_labels': 'Hallucination',\n",
       " 'C-W': 0.1,\n",
       " 'p(Hallucination)': 0.2}"
      ]
     },
     "execution_count": 73,
     "metadata": {},
     "output_type": "execute_result"
    }
   ],
   "source": [
    "el"
   ]
  },
  {
   "cell_type": "code",
   "execution_count": 74,
   "metadata": {},
   "outputs": [
    {
     "data": {
      "application/vnd.jupyter.widget-view+json": {
       "model_id": "6ac1d7e3bbc24f6d933cf68b22c2e910",
       "version_major": 2,
       "version_minor": 0
      },
      "text/plain": [
       "Creating json from Arrow format:   0%|          | 0/10 [00:00<?, ?ba/s]"
      ]
     },
     "metadata": {},
     "output_type": "display_data"
    },
    {
     "data": {
      "text/plain": [
       "20398245"
      ]
     },
     "execution_count": 74,
     "metadata": {},
     "output_type": "execute_result"
    }
   ],
   "source": [
    "tr_ds['train'].to_json(str(BASE_DIR / f\"train_labeled_{TASK_TYPE}_SOLAR.model-agnostic.json\"))"
   ]
  },
  {
   "cell_type": "code",
   "execution_count": 75,
   "metadata": {},
   "outputs": [
    {
     "data": {
      "application/vnd.jupyter.widget-view+json": {
       "model_id": "405ceefae5184eff83f3ea22adeca392",
       "version_major": 2,
       "version_minor": 0
      },
      "text/plain": [
       "Map:   0%|          | 0/30000 [00:00<?, ? examples/s]"
      ]
     },
     "metadata": {},
     "output_type": "display_data"
    },
    {
     "data": {
      "text/plain": [
       "DatasetDict({\n",
       "    train: Dataset({\n",
       "        features: ['hyp', 'src', 'task', 'ref', 'tgt', 'model', 'C-W'],\n",
       "        num_rows: 30000\n",
       "    })\n",
       "})"
      ]
     },
     "execution_count": 75,
     "metadata": {},
     "output_type": "execute_result"
    }
   ],
   "source": [
    "tr_ds = load_dataset(\"json\", data_files=[str(BASE_DIR / f\"train.model-agnostic.json\")])\n",
    "def generate_cw_val(mapped_ds):\n",
    "    return {'C-W' : 1}\n",
    "\n",
    "tr_ds = tr_ds.map(generate_cw_val)\n",
    "tr_ds"
   ]
  },
  {
   "cell_type": "code",
   "execution_count": 78,
   "metadata": {},
   "outputs": [
    {
     "data": {
      "application/vnd.jupyter.widget-view+json": {
       "model_id": "4f48c85eed684936b7cb49ba7d10928f",
       "version_major": 2,
       "version_minor": 0
      },
      "text/plain": [
       "Creating json from Arrow format:   0%|          | 0/30 [00:00<?, ?ba/s]"
      ]
     },
     "metadata": {},
     "output_type": "display_data"
    },
    {
     "data": {
      "text/plain": [
       "7796265"
      ]
     },
     "execution_count": 78,
     "metadata": {},
     "output_type": "execute_result"
    }
   ],
   "source": [
    "tr_ds['train'].to_json(str(BASE_DIR / f\"train.model-agnostic.json\"))"
   ]
  }
 ],
 "metadata": {
  "kernelspec": {
   "display_name": "venv",
   "language": "python",
   "name": "python3"
  },
  "language_info": {
   "codemirror_mode": {
    "name": "ipython",
    "version": 3
   },
   "file_extension": ".py",
   "mimetype": "text/x-python",
   "name": "python",
   "nbconvert_exporter": "python",
   "pygments_lexer": "ipython3",
   "version": "3.9.7"
  }
 },
 "nbformat": 4,
 "nbformat_minor": 2
}
